{
  "nbformat": 4,
  "nbformat_minor": 0,
  "metadata": {
    "colab": {
      "provenance": [],
      "authorship_tag": "ABX9TyM9E5WP5X1HIwWXrc85DQG8",
      "include_colab_link": true
    },
    "kernelspec": {
      "name": "python3",
      "display_name": "Python 3"
    },
    "language_info": {
      "name": "python"
    }
  },
  "cells": [
    {
      "cell_type": "markdown",
      "metadata": {
        "id": "view-in-github",
        "colab_type": "text"
      },
      "source": [
        "<a href=\"https://colab.research.google.com/github/clovesrocha/ExercicioPY/blob/main/vetor_imc.ipynb\" target=\"_parent\"><img src=\"https://colab.research.google.com/assets/colab-badge.svg\" alt=\"Open In Colab\"/></a>"
      ]
    },
    {
      "cell_type": "code",
      "execution_count": 2,
      "metadata": {
        "colab": {
          "base_uri": "https://localhost:8080/"
        },
        "id": "jNl9H55qPCV1",
        "outputId": "bf28acf1-58c4-485d-bd5a-0157b8d12bae"
      },
      "outputs": [
        {
          "output_type": "stream",
          "name": "stdout",
          "text": [
            "[181, 100, 40]\n"
          ]
        }
      ],
      "source": [
        "#Aula Vetores d1_altura, d2_peso e d3_idade\n",
        "imc = [181, 100, 40] \n",
        "print(imc)"
      ]
    },
    {
      "cell_type": "code",
      "source": [
        "# Vetor de notas n1, n2, n3 e n4\n",
        "\n",
        "notas = [10, 9, 8, 5]\n",
        "print(notas)"
      ],
      "metadata": {
        "colab": {
          "base_uri": "https://localhost:8080/"
        },
        "id": "XLIVO3EEP-O3",
        "outputId": "fa94a3a7-171f-4f94-b388-9310ddd7e7a8"
      },
      "execution_count": 5,
      "outputs": [
        {
          "output_type": "stream",
          "name": "stdout",
          "text": [
            "[10, 9, 8, 5]\n"
          ]
        }
      ]
    },
    {
      "cell_type": "code",
      "source": [
        "# Soma de Vetores\n",
        "#def vet_add(sem1, sem2):\n",
        "\n",
        "sem1 = [10, 9, 8, 7]\n",
        "sem2 = [6, 5, 4, 3]\n",
        "#return [sem1 + sem2]\n",
        "#Corrija o erro...\n",
        "media = (sem1 + sem2)/2\n",
        "print(media)\n",
        "\n",
        "\n"
      ],
      "metadata": {
        "id": "Okx3nZFFPnLq"
      },
      "execution_count": null,
      "outputs": []
    }
  ]
}